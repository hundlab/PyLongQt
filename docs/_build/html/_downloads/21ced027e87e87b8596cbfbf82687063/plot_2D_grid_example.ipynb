{
  "cells": [
    {
      "cell_type": "code",
      "execution_count": null,
      "metadata": {
        "collapsed": false
      },
      "outputs": [],
      "source": [
        "%matplotlib inline"
      ]
    },
    {
      "cell_type": "markdown",
      "metadata": {},
      "source": [
        "\n# 1D Grid Simulation\n\nThis example illustrates how to setup and run a simple 1D grid simulation, \nalso known as a fiber simulation with a row of cells. These simulations\nshow how the cell models interact rather than examining them in isolation. 2D\ngrids can be setup in the same fashion as 1D fibers, and there is also a more\nadvanced tutorial on seting up a 2D grid showing the possible customizations.\n"
      ]
    },
    {
      "cell_type": "markdown",
      "metadata": {},
      "source": [
        "## Setup & Run the Simulation\n\nImport PyLongQt and create a grid protocol, this protocol can function for\n1 or 2D simulations.\n\n"
      ]
    },
    {
      "cell_type": "code",
      "execution_count": null,
      "metadata": {
        "collapsed": false
      },
      "outputs": [],
      "source": [
        "import PyLongQt as pylqt\n\n\nproto = pylqt.protoMap['Grid Protocol']()"
      ]
    },
    {
      "cell_type": "markdown",
      "metadata": {},
      "source": [
        "To configure the size of the Fiber we will add one row and the number of\ncolumns we would like to have for the simulation. Due to the detialed nature\nof many of the cell models, larger fibers/grids may be very slow and \ncomputationally demanding.\n\n"
      ]
    },
    {
      "cell_type": "code",
      "execution_count": null,
      "metadata": {
        "collapsed": false
      },
      "outputs": [],
      "source": [
        "proto.grid.addRow()\nproto.grid.addColumns(10)\n\nproto.grid"
      ]
    },
    {
      "cell_type": "markdown",
      "metadata": {},
      "source": [
        "When new cells are added to the grid, they are automatically filled with a \ncell model called 'Inexcitable Cell', this cell acts like the edge of the\ngrid. It is not excited by its neighbors and cannot pass any signal between\nthem. To replace these cells with more interesting cells, we will create new\ncell objects and place them in the grid.\n\n"
      ]
    },
    {
      "cell_type": "markdown",
      "metadata": {},
      "source": [
        "To get the possible options for a node in a grid use\n\n"
      ]
    },
    {
      "cell_type": "code",
      "execution_count": null,
      "metadata": {
        "collapsed": false
      },
      "outputs": [],
      "source": [
        "proto.grid[0,0].cellOptions()"
      ]
    },
    {
      "cell_type": "markdown",
      "metadata": {},
      "source": [
        "rather than\n\n"
      ]
    },
    {
      "cell_type": "code",
      "execution_count": null,
      "metadata": {
        "collapsed": false
      },
      "outputs": [],
      "source": [
        "proto.cellOptions()"
      ]
    },
    {
      "cell_type": "markdown",
      "metadata": {},
      "source": [
        "as the cell cannot be set at the protocol level when there is a grid structure.\n\n   At this time all nodes will have the same options, it is not necessary to\n   check each node individually.\n\n"
      ]
    },
    {
      "cell_type": "code",
      "execution_count": null,
      "metadata": {
        "collapsed": false
      },
      "outputs": [],
      "source": [
        "for col in range(proto.grid.columnCount()):\n    node = proto.grid[0,col]\n    node.setCellByName('Canine Ventricular (Hund-Rudy 2009)')\n\nproto.grid"
      ]
    }
  ],
  "metadata": {
    "kernelspec": {
      "display_name": "Python 3",
      "language": "python",
      "name": "python3"
    },
    "language_info": {
      "codemirror_mode": {
        "name": "ipython",
        "version": 3
      },
      "file_extension": ".py",
      "mimetype": "text/x-python",
      "name": "python",
      "nbconvert_exporter": "python",
      "pygments_lexer": "ipython3",
      "version": "3.7.6"
    }
  },
  "nbformat": 4,
  "nbformat_minor": 0
}
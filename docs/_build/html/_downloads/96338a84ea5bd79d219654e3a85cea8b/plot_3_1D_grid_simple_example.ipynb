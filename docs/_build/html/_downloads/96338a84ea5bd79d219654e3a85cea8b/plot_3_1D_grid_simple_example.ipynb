{
  "cells": [
    {
      "cell_type": "code",
      "execution_count": null,
      "metadata": {
        "collapsed": false
      },
      "outputs": [],
      "source": [
        "%matplotlib inline"
      ]
    },
    {
      "cell_type": "markdown",
      "metadata": {},
      "source": [
        "\n# 3. 1D Grid Simulation\n\nThis example illustrates how to setup and run a simple 1D grid simulation, \nalso known as a fiber simulation with a row of cells. These simulations\nshow how the cell models interact rather than examining them in isolation. 2D\ngrids can be setup in the same fashion as 1D fibers, and there is also a more\nadvanced tutorial on setting up a 2D grid showing the possible customizations.\n"
      ]
    },
    {
      "cell_type": "markdown",
      "metadata": {},
      "source": [
        "## Setup & Run the Simulation\n\nImport PyLongQt and create a grid protocol, this protocol can function for\n1 or 2D simulations. These simulations are similar to current clamp simulations\nexcept that they are preformed on a grid of connected cells, instead of on an\nindividual cell.\n\n"
      ]
    },
    {
      "cell_type": "code",
      "execution_count": null,
      "metadata": {
        "collapsed": false
      },
      "outputs": [],
      "source": [
        "import PyLongQt as pylqt\n\nproto = pylqt.protoMap['Grid Protocol']()"
      ]
    },
    {
      "cell_type": "markdown",
      "metadata": {},
      "source": [
        "To configure the size of the Fiber we will add one row and the number of\ncolumns we would like to have for the simulation. Due to the detailed nature\nof many of the cell models, larger fibers/grids may be very slow and \ncomputationally demanding.\n\n"
      ]
    },
    {
      "cell_type": "code",
      "execution_count": null,
      "metadata": {
        "collapsed": false
      },
      "outputs": [],
      "source": [
        "n_cols = 10\nproto.grid.addRow()\nproto.grid.addColumns(n_cols)"
      ]
    },
    {
      "cell_type": "markdown",
      "metadata": {},
      "source": [
        "We can also use the :py:meth:`Grid.simpleGrid` to get a representation\nof the grid that is easier to visualize\n\n"
      ]
    },
    {
      "cell_type": "code",
      "execution_count": null,
      "metadata": {
        "collapsed": false
      },
      "outputs": [],
      "source": [
        "proto.grid.simpleGrid()"
      ]
    },
    {
      "cell_type": "markdown",
      "metadata": {},
      "source": [
        "When new cells are added to the grid, they are automatically filled with a \ncell model called 'Inexcitable Cell', this cell acts like the edge of the\ngrid. It is not excited by its neighbors and cannot pass any signal between\nthem. To replace these cells with more interesting cells, we will create new\ncell objects and place them in the grid.\n\n"
      ]
    },
    {
      "cell_type": "markdown",
      "metadata": {},
      "source": [
        "To get the possible options for a node in a grid use\n\n"
      ]
    },
    {
      "cell_type": "code",
      "execution_count": null,
      "metadata": {
        "collapsed": false
      },
      "outputs": [],
      "source": [
        "proto.grid[0,0].cellOptions()"
      ]
    },
    {
      "cell_type": "markdown",
      "metadata": {},
      "source": [
        "rather than\n\n"
      ]
    },
    {
      "cell_type": "code",
      "execution_count": null,
      "metadata": {
        "collapsed": false
      },
      "outputs": [],
      "source": [
        "proto.cellOptions()"
      ]
    },
    {
      "cell_type": "markdown",
      "metadata": {},
      "source": [
        "as the cell cannot be set at the protocol level when there is a grid structure.\n\n<div class=\"alert alert-info\"><h4>Note</h4><p>At this time all nodes will have the same options, so it is not necessary to\n   check each node individually.</p></div>\n\n"
      ]
    },
    {
      "cell_type": "code",
      "execution_count": null,
      "metadata": {
        "collapsed": false
      },
      "outputs": [],
      "source": [
        "for col in range(proto.grid.columnCount()):\n    node = proto.grid[0,col]\n    node.setCellByName('Canine Ventricular (Hund-Rudy 2009)')\n\nproto.grid.simpleGrid()"
      ]
    },
    {
      "cell_type": "markdown",
      "metadata": {},
      "source": [
        "Now that all the cells have been setup we can configure the stimulus settings.\nMany of the settings are the same, however now we must also select the cells\nthat we want to stimulate. Typically this is one edge or one corner of the\ngrid, but it can be any cells as desired.\n\n"
      ]
    },
    {
      "cell_type": "code",
      "execution_count": null,
      "metadata": {
        "collapsed": false
      },
      "outputs": [],
      "source": [
        "proto.stimNodes = {(0,0), (0,1)}"
      ]
    },
    {
      "cell_type": "markdown",
      "metadata": {},
      "source": [
        "To select which cells will be stimulated create a set of tuples with the\npositions of cells to be stimulated as shown above.\n\nThe rest of the settings can be modified in the same fashion as before.\n\n"
      ]
    },
    {
      "cell_type": "code",
      "execution_count": null,
      "metadata": {
        "collapsed": false
      },
      "outputs": [],
      "source": [
        "proto.stimt = 1000"
      ]
    },
    {
      "cell_type": "markdown",
      "metadata": {},
      "source": [
        "By detault the simulation will be 5000 ms\n\n"
      ]
    },
    {
      "cell_type": "code",
      "execution_count": null,
      "metadata": {
        "collapsed": false
      },
      "outputs": [],
      "source": [
        "proto.tMax"
      ]
    },
    {
      "cell_type": "markdown",
      "metadata": {},
      "source": [
        "Measures and traces can also be taken, the setup is largely similar to single\ncell simulations with the addition of selecting the nodes to be measured.\nThese nodes can be selected using the :py:class:`MeasureManager` and are the\nsame nodes used for saving traces and taking measurements. For this example\nwe will selected every node.\n\n"
      ]
    },
    {
      "cell_type": "code",
      "execution_count": null,
      "metadata": {
        "collapsed": false
      },
      "outputs": [],
      "source": [
        "proto.measureMgr.dataNodes = {(0,i) for i in range(proto.grid.columnCount())}\n\nproto.measureMgr.addMeasure('vOld', {'peak', 'min', 'cl'})\nproto.measureMgr.addMeasure('iNa', {'min', 'avg'})\nproto.measureMgr.selection"
      ]
    },
    {
      "cell_type": "markdown",
      "metadata": {},
      "source": [
        "The traces can be set in the same way as before using :py:data:`Protocol.cell`\n\n"
      ]
    },
    {
      "cell_type": "code",
      "execution_count": null,
      "metadata": {
        "collapsed": false
      },
      "outputs": [],
      "source": [
        "proto.cell.variableSelection = {'t', 'vOld', 'iNa'}"
      ]
    },
    {
      "cell_type": "markdown",
      "metadata": {},
      "source": [
        "Now the simulation is all setup and can be run.\n\n"
      ]
    },
    {
      "cell_type": "code",
      "execution_count": null,
      "metadata": {
        "collapsed": false
      },
      "outputs": [],
      "source": [
        "sim_runner = pylqt.RunSim()\nsim_runner.setSims(proto)\nsim_runner.run()\nsim_runner.wait()"
      ]
    },
    {
      "cell_type": "markdown",
      "metadata": {},
      "source": [
        "## Plot the Results\n\nDisable future warnings to avoid excess outputs from plotting\n\n"
      ]
    },
    {
      "cell_type": "code",
      "execution_count": null,
      "metadata": {
        "collapsed": false
      },
      "outputs": [],
      "source": [
        "import warnings\nwarnings.simplefilter(action='ignore', category=FutureWarning)"
      ]
    },
    {
      "cell_type": "markdown",
      "metadata": {},
      "source": [
        "The data can once again be read using :py:class:`DataReader`.\n\n"
      ]
    },
    {
      "cell_type": "code",
      "execution_count": null,
      "metadata": {
        "collapsed": false
      },
      "outputs": [],
      "source": [
        "import pandas as pd\nimport numpy as np\nimport matplotlib.pyplot as plt\n\n[trace], [meas] = pylqt.DataReader.readAsDataFrame(proto.datadir)"
      ]
    },
    {
      "cell_type": "markdown",
      "metadata": {},
      "source": [
        "The trace DataFrame's columns now have two levels, one for the cell's position and \none for the variable name.\n\n"
      ]
    },
    {
      "cell_type": "code",
      "execution_count": null,
      "metadata": {
        "collapsed": false
      },
      "outputs": [],
      "source": [
        "trace.columns[:5]"
      ]
    },
    {
      "cell_type": "markdown",
      "metadata": {},
      "source": [
        "Similarly the measure DataFrame's columns have an additional level for the\ncell's position\n\n"
      ]
    },
    {
      "cell_type": "code",
      "execution_count": null,
      "metadata": {
        "collapsed": false
      },
      "outputs": [],
      "source": [
        "meas.columns[:5]"
      ]
    },
    {
      "cell_type": "markdown",
      "metadata": {},
      "source": [
        "We can use the trace Dataframe to produce traces of each of the action\npotenitals in the fiber and color them by their location in the fiber\n\n"
      ]
    },
    {
      "cell_type": "code",
      "execution_count": null,
      "metadata": {
        "collapsed": false
      },
      "outputs": [],
      "source": [
        "plt.figure()\ncolors = plt.cm.jet_r(np.linspace(0,1,n_cols))\nfor i in range(n_cols):\n    trace_subset = trace[trace[((0,i),'t')] < 4_250]\n    plt.plot(trace_subset[((0,i),'t')],\n             trace_subset[((0,i),'vOld')],\n             color=colors[i],\n             label=str(i))\nplt.xlabel('Time (ms)')\nplt.ylabel('Voltage (mV)')\n_ = plt.legend()"
      ]
    },
    {
      "cell_type": "markdown",
      "metadata": {},
      "source": [
        "Then let's create one more plot to show the action potential propagation.\n\n"
      ]
    },
    {
      "cell_type": "code",
      "execution_count": null,
      "metadata": {
        "collapsed": false
      },
      "outputs": [],
      "source": [
        "plt.figure()\ncolors = plt.cm.jet_r(np.linspace(0,1,n_cols))\nfor i in range(n_cols):\n    trace_subset = trace[trace[((0,i),'t')] < 4_010]\n    plt.plot(trace_subset[((0,i),'t')],\n             trace_subset[((0,i),'vOld')],\n             color=colors[i],\n             label=str(i))\nplt.xlabel('Time (ms)')\n_ = plt.ylabel('Voltage (mV)')"
      ]
    }
  ],
  "metadata": {
    "kernelspec": {
      "display_name": "Python 3",
      "language": "python",
      "name": "python3"
    },
    "language_info": {
      "codemirror_mode": {
        "name": "ipython",
        "version": 3
      },
      "file_extension": ".py",
      "mimetype": "text/x-python",
      "name": "python",
      "nbconvert_exporter": "python",
      "pygments_lexer": "ipython3",
      "version": "3.7.6"
    }
  },
  "nbformat": 4,
  "nbformat_minor": 0
}
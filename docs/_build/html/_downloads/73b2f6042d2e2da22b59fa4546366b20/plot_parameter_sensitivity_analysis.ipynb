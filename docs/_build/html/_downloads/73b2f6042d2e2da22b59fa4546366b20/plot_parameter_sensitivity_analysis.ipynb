{
  "cells": [
    {
      "cell_type": "code",
      "execution_count": null,
      "metadata": {
        "collapsed": false
      },
      "outputs": [],
      "source": [
        "%matplotlib inline"
      ]
    },
    {
      "cell_type": "markdown",
      "metadata": {},
      "source": [
        "\n# Parameter Sensitivity Analysis\n\nThis example illustrates how to conduct parameter sensitivity analysis. The \npurpose of conducing this kind of analysis is to determine the impact of \none (or more) cell parameter, such as sodium ion channel conductance, on one\n(or more) measurable output, such as upstroke velocity. For this example we\nwill stick to one cell parameter and one output, however the technique is not\nchanged when preforming this analysis for many inputs possible outputs, except\nthat a larger number of simulations may be required. The approach of this\nanalysis can be devided into 3 parts:\n\n1. Generate a population of cells. The cells in this population are not all the\n   same and instead vary randomly with respect to the parameters of interest.\n   Typically they are genereated from a normal or lognormal distribution,\n   who's spread is tuned to cover a reasonable range of possible inputs.\n   The definition of a reasonable range depends on the purpose of the anlysis,\n   for example if the goal is to understand the parameter's effect in healthy\n   cells, then the population genereated should correspond to a range of plausable\n   values for healthy cells.\n2. Run a simulation for each cell in the generated population and measure the\n   resulting outpus.\n3. Conduct a linear regression using the parameters as predictors and the \n   measured output as the response. This creates a linear model who's coefficants\n   indicated the effect of a change in a parameter to a change in response.\n   \nFor this example we will specifically be looking at the effect of sodium\nchannel conductance on upstroke velocity.\n"
      ]
    },
    {
      "cell_type": "code",
      "execution_count": null,
      "metadata": {
        "collapsed": false
      },
      "outputs": [],
      "source": [
        "import PyLongQt as pylqt\n\nimport pandas as pd"
      ]
    },
    {
      "cell_type": "markdown",
      "metadata": {},
      "source": [
        "## Setup the Simulation & Configure the population\n\nThe initial setup is the same as before\n\n"
      ]
    },
    {
      "cell_type": "code",
      "execution_count": null,
      "metadata": {
        "collapsed": false
      },
      "outputs": [],
      "source": [
        "proto = pylqt.protoMap['Current Clamp Protocol']()\n\nproto.setCellByName('Canine Ventricular (Hund-Rudy 2009)')\n\nproto.bcl = 800\nproto.tMax = 50_000\nproto.numstims = 200\nproto.meastime = 1_000\nproto.writetime = 51_000 #We do not need to write any traces!\n\nproto.cell.variableSelection = set()\n\nproto.measureMgr.percrepol = 90\nproto.measureMgr.addMeasure('vOld', {'peak', 'maxderiv'})"
      ]
    },
    {
      "cell_type": "markdown",
      "metadata": {},
      "source": [
        "The new addition beyond the 'simple current clamp' example is the use\nof :py:class:`Protocol.pvars` to modify the sodium channel conductance for\neach simulation. \n\n"
      ]
    },
    {
      "cell_type": "markdown",
      "metadata": {},
      "source": [
        "To get a list of the possible parameters use :py:class:`Cell.pars`\n\n"
      ]
    },
    {
      "cell_type": "code",
      "execution_count": null,
      "metadata": {
        "collapsed": false
      },
      "outputs": [],
      "source": [
        "list(proto.cell.pars.keys())[:5]"
      ]
    },
    {
      "cell_type": "markdown",
      "metadata": {},
      "source": [
        "Parameter names that end in Factor scale the parameter, so that 1 is the\ndefault value for all factors, and their resonable range is 0 to infinity.\n\nThe factor we need is `InaFactor`, and to set up the pvars entry we need\nto specify the distribution that will be used to generate the values\nwe will use lognormal, so we will also need to specify the mean and \nstandard deviation of that distribution.\n\n"
      ]
    },
    {
      "cell_type": "code",
      "execution_count": null,
      "metadata": {
        "collapsed": false
      },
      "outputs": [],
      "source": [
        "distribution = proto.pvars.Distribution.lognormal\nmean = 0\nst_dev = 0.2\n\nproto.pvars['InaFactor'] = proto.pvars.IonChanParam(distribution, mean, st_dev)\n\nproto.pvars['InaFactor']"
      ]
    },
    {
      "cell_type": "markdown",
      "metadata": {},
      "source": [
        "Finally we need to specify the number of simulations to generate from the\npopultion. We will generate 20 in this case, although 300-600 is a more\ntypical number.\n\n"
      ]
    },
    {
      "cell_type": "code",
      "execution_count": null,
      "metadata": {
        "collapsed": false
      },
      "outputs": [],
      "source": [
        "proto.numtrials = 20"
      ]
    },
    {
      "cell_type": "markdown",
      "metadata": {},
      "source": [
        "As an aside, the specific values for each trial are stored in \n:py:class:`Protocol.pvars` and can be viewed (or modified!), below are the\nfirst 5 values\n\n"
      ]
    },
    {
      "cell_type": "code",
      "execution_count": null,
      "metadata": {
        "collapsed": false
      },
      "outputs": [],
      "source": [
        "proto.pvars['InaFactor'].trials[:5]"
      ]
    },
    {
      "cell_type": "markdown",
      "metadata": {},
      "source": [
        "## Run the simulations\n\nThe simulation can be run using the exact same syntax as before. \n:py:class:`RunSim` automatically detects the number of trails to be run and\nhandles them concurrently.\n\n"
      ]
    },
    {
      "cell_type": "code",
      "execution_count": null,
      "metadata": {
        "collapsed": false
      },
      "outputs": [],
      "source": [
        "sim_runner = pylqt.RunSim()\nsim_runner.setSims(proto)\nsim_runner.run()\nsim_runner.wait()"
      ]
    },
    {
      "cell_type": "markdown",
      "metadata": {},
      "source": [
        "## Read the data & fit linear regression model\n\nReading the data is preformed similarly, however the lists returned now have\n20 elements instead of 1, with each DataFrame being for one simulation.\n\n"
      ]
    },
    {
      "cell_type": "code",
      "execution_count": null,
      "metadata": {
        "collapsed": false
      },
      "outputs": [],
      "source": [
        "traces, meases = pylqt.DataReader.readAsDataFrame(proto.datadir)"
      ]
    },
    {
      "cell_type": "markdown",
      "metadata": {},
      "source": [
        "For upstroke velocity we are interested in the final action potential for \neach simulation rather than all the values, so we will compile that into\nits own DataFrame first\n\n"
      ]
    },
    {
      "cell_type": "code",
      "execution_count": null,
      "metadata": {
        "collapsed": false
      },
      "outputs": [],
      "source": [
        "last_meas = pd.DataFrame([\n    meas\n    .loc[meas.index[-1]]\n    .rename(i)\n    for i,meas in enumerate(meases)])"
      ]
    },
    {
      "cell_type": "markdown",
      "metadata": {},
      "source": [
        "A detailed explaination for those unfamiliar with python classes\n\n  To unpack a little about how this line of code works, it uses a generator\n  expression `[...]` to generate a list of series which pandas then compiles\n  back into a dataframe. More specifically, ``for i,meas in enumerate(meases)`` \n  gets each indivdual measure (which we name `meas`) dataframe from the `meases` \n  list and enumerates them, 1...20, which we name `i`. Then, we get the last \n  row from each `meas`, using ``meas.loc[meas.index[-1]]``. Finally, we need to \n  rename the :py:class:`Pandas.Series` (the row from the dataframe) so that it\n  will have the correct index when they are all compiled into a new dataframe\n  (`last_meas`), without this last step, all of the rows in the `last_meas`\n  dataframe would have the same index.\n\n"
      ]
    },
    {
      "cell_type": "markdown",
      "metadata": {},
      "source": [
        "Next we would like to have a copy of the parameter values used in the\nsimulations, which we will get in the same manor as shown earlier.\n\n"
      ]
    },
    {
      "cell_type": "code",
      "execution_count": null,
      "metadata": {
        "collapsed": false
      },
      "outputs": [],
      "source": [
        "parameters = pd.Series(proto.pvars['InaFactor'].trials, name='InaFactor')"
      ]
    },
    {
      "cell_type": "markdown",
      "metadata": {},
      "source": [
        "Now that we have all the data we need we can run a linear regression\nusing the statsmodels pacakge\n\n"
      ]
    },
    {
      "cell_type": "code",
      "execution_count": null,
      "metadata": {
        "collapsed": false
      },
      "outputs": [],
      "source": [
        "import statsmodels.api as sm\nimport seaborn as sns\n\nmodel = sm.OLS(last_meas[('vOld', 'peak')], sm.add_constant(parameters))\nres = model.fit()\nprint(res.summary())\n\n#%\n# The `res` object contains the results of the model fit as well as model\n# evaluation criteria, and can be used to determine how much of a change\n# in INaFactor will result in a change in upstroke velocity\n\n# Finally, as this is a simple linear regression we can generate a plot\n# of the points as well as our fit model to examine how strong the model \n# looks\n_ = sns.regplot(last_meas[('vOld', 'peak')], parameters)"
      ]
    },
    {
      "cell_type": "markdown",
      "metadata": {},
      "source": [
        "This model naturally fits quite well. In other senerios it may be necessary\npreform a more complete linear regression with model diagnostics, etc\nto insure model quality. There are many tutorials on linear regression\nthat cover the appropriate steps for running a regression.\n\n"
      ]
    }
  ],
  "metadata": {
    "kernelspec": {
      "display_name": "Python 3",
      "language": "python",
      "name": "python3"
    },
    "language_info": {
      "codemirror_mode": {
        "name": "ipython",
        "version": 3
      },
      "file_extension": ".py",
      "mimetype": "text/x-python",
      "name": "python",
      "nbconvert_exporter": "python",
      "pygments_lexer": "ipython3",
      "version": "3.7.6"
    }
  },
  "nbformat": 4,
  "nbformat_minor": 0
}
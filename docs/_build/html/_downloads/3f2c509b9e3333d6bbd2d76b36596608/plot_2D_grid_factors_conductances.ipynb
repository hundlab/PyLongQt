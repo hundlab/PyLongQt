{
  "cells": [
    {
      "cell_type": "code",
      "execution_count": null,
      "metadata": {
        "collapsed": false
      },
      "outputs": [],
      "source": [
        "%matplotlib inline"
      ]
    },
    {
      "cell_type": "markdown",
      "metadata": {},
      "source": [
        "\n# 2D Grid with factors and conductances\n\nThis example illustrates how to setup and run a 2D grid simulation, using \noptions to modify conductances and parameters for each cell. For this example\nwe will setup a grid with a non-conducting center.\n"
      ]
    },
    {
      "cell_type": "markdown",
      "metadata": {},
      "source": [
        "## Setup & Run the Simulation\n\nFirst we will setup the simulation so that the border cells are all conducting \ncells while the internal cells are not excitable, creating a ring of excitable\ncells\n\n"
      ]
    },
    {
      "cell_type": "code",
      "execution_count": null,
      "metadata": {
        "collapsed": false
      },
      "outputs": [],
      "source": [
        "import PyLongQt as pylqt\nimport numpy as np\nimport pandas as pd\nimport matplotlib.pyplot as plt\n\nproto = pylqt.protoMap['Grid Protocol']()\n\nn_cols = 5\nn_rows = 5\n\nproto.grid.addRows(n_rows)\nproto.grid.addColumns(n_cols)\n\nborder_cells = {(i,0) for i in range(n_rows)} | \\\n    {(0,i) for i in range(n_cols)} | \\\n    {(i,4) for i in range(n_rows)} | \\\n    {(4,i) for i in range(n_cols)}\n\nfor row,col in border_cells:\n    node = proto.grid[row,col]\n    node.setCellByName('Canine Ventricular (Hund-Rudy 2009)')\n\nproto.grid.simpleGrid()"
      ]
    },
    {
      "cell_type": "markdown",
      "metadata": {},
      "source": [
        "Lets only stimulate the middle cell in the 1st column\n\n"
      ]
    },
    {
      "cell_type": "code",
      "execution_count": null,
      "metadata": {
        "collapsed": false
      },
      "outputs": [],
      "source": [
        "proto.stimNodes = {(2,0)}\n\nproto.stimt = 1000\nproto.stimval = -150"
      ]
    },
    {
      "cell_type": "markdown",
      "metadata": {},
      "source": [
        "And add some measures for each of the excitable cells\n\n"
      ]
    },
    {
      "cell_type": "code",
      "execution_count": null,
      "metadata": {
        "collapsed": false
      },
      "outputs": [],
      "source": [
        "proto.measureMgr.dataNodes = border_cells\n\nproto.measureMgr.addMeasure('vOld', {'peak', 'min', 'cl'})\nproto.measureMgr.addMeasure('iNa', {'min', 'avg'})\nproto.measureMgr.selection"
      ]
    },
    {
      "cell_type": "markdown",
      "metadata": {},
      "source": [
        "and some traces\n\n"
      ]
    },
    {
      "cell_type": "code",
      "execution_count": null,
      "metadata": {
        "collapsed": false
      },
      "outputs": [],
      "source": [
        "proto.cell.variableSelection = {'t', 'vOld', 'iNa'}"
      ]
    },
    {
      "cell_type": "markdown",
      "metadata": {},
      "source": [
        "There are a few further customizations which we will show for the grid (they\nare also available for a fiber). The first is the cell constants (called pvars,\nsuch as the Factors used in the parameter sensitivity analysis example) which\nallow for values of the parameters to be set. Unlike for the single cell,\nthe parameters are not for running multiple simulations, rather they are for\nthe spatial positioning of the parameter values across the grid.\n\n"
      ]
    },
    {
      "cell_type": "code",
      "execution_count": null,
      "metadata": {
        "collapsed": false
      },
      "outputs": [],
      "source": [
        "proto.pvars['InaFactor'] = proto.pvars.IonChanParam(proto.pvars.Distribution.none, 1, -0.05)\nproto.pvars.setStartCells('InaFactor', {(0,3)})\nproto.pvars.setMaxDistAndVal('InaFactor', 2, 1)"
      ]
    },
    {
      "cell_type": "markdown",
      "metadata": {},
      "source": [
        "The first line above adds a rule for the sodium current. The first argument is\nthe starting value and the second is how much the value should decrease for\neach node of distance it moves away from the starting cell. The starting cell\nhas not yet been set and the default behavior is for every cell to be a start\ncell. To fix this we set a single start cell on the next line using the\n:py:meth:`setStartCells` method.\n\nWe can also set limitations on the cells that will be effected, by limiting\nthe maximum distance at which the rule will be applied, and the maximum\nvalue that the rule will apply. These are the first and second arguments of\nthe next line restricting the distance to two steps away, and not changing\nthe maximum value.\n\nNow lets create a small visualization of how all these rules will be applied\n\n"
      ]
    },
    {
      "cell_type": "code",
      "execution_count": null,
      "metadata": {
        "collapsed": false
      },
      "outputs": [],
      "source": [
        "vis = np.ones(proto.grid.shape)\ncells_list = list(proto.pvars['InaFactor'].cells.keys())\nidx_list = tuple(zip(*cells_list))\nvis[idx_list] = list(proto.pvars['InaFactor'].cells.values())\nvis"
      ]
    },
    {
      "cell_type": "markdown",
      "metadata": {},
      "source": [
        "Notice that the rule is not being applied to the inexcitable cells. This is \nbecause PyLongQt checks whether each cell has the ion channel constant and only\napplies the rule to those cells.\n\n<div class=\"alert alert-info\"><h4>Note</h4><p>The pvars settings can also be used to apply arbitrary values to the cells\n   during the setup process by manually changing \n   `proto.pvars['InaFactor'].cells`. In this case the rules may indicate that\n   a change will be applied to a cell, which doesn't have that ion channel. That\n   assignment will be ignored when the simulation is being run.</p></div>\n\nThe other optional configuration is to change the conductances between cells.\nSetting conductances to smaller values will reduce the influence of cells on\ntheir neighbor, while setting them to larger values will do the oppisite.\nChoosing to set a conductance to 0 will completely remove any effect of those\ntwo cells on each other. Conductances are also symmetric, so a cell's right\nside conductance is its right-hand neighbors left conductance. When setting\nconductances this will be updated automatically. Conductances on the boarder\nof the Grid will always be 0, and cannot be changed. Similarly, inexcitable\ncells will always have a conductance of 0 with all of their neighbors. For\nthis example we will reduce the conductance between the nodes on the top and\nbottom of our ring of cells. One way to accomplish this is to set the \nconductivitiy value directly using :py:meth:`Node.setConductivityDirect`.\nThis is a direct method as the value is set given the provided value regardless\nof the cell's properties. Another way to change the conductance is to set\nthe resistivity using :py:meth:`Node.setResistivity`. Using this method,\nwe change the gap junction resistance by a percentage which will impact the\nconductivity while still using a physiological calculation.\n\n"
      ]
    },
    {
      "cell_type": "code",
      "execution_count": null,
      "metadata": {
        "collapsed": false
      },
      "outputs": [],
      "source": [
        "for i in range(proto.grid.columnCount()):\n    node = proto.grid[0,i]\n    node.setResistivity(pylqt.right, percentage=120)"
      ]
    },
    {
      "cell_type": "markdown",
      "metadata": {},
      "source": [
        "Now the simulation is all setup and can be run.\n\n"
      ]
    },
    {
      "cell_type": "code",
      "execution_count": null,
      "metadata": {
        "collapsed": false
      },
      "outputs": [],
      "source": [
        "sim_runner = pylqt.RunSim()\nsim_runner.setSims(proto)\nsim_runner.run()\nsim_runner.wait()"
      ]
    },
    {
      "cell_type": "markdown",
      "metadata": {},
      "source": [
        "## Plot the Results\n\nDisable future warnings to avoid excess outputs from plotting\n\n"
      ]
    },
    {
      "cell_type": "code",
      "execution_count": null,
      "metadata": {
        "collapsed": false
      },
      "outputs": [],
      "source": [
        "import warnings\nwarnings.simplefilter(action='ignore', category=FutureWarning)"
      ]
    },
    {
      "cell_type": "markdown",
      "metadata": {},
      "source": [
        "The data can once again be read using :py:class:`DataReader`.\n\n"
      ]
    },
    {
      "cell_type": "code",
      "execution_count": null,
      "metadata": {
        "collapsed": false
      },
      "outputs": [],
      "source": [
        "[trace], [meas] = pylqt.DataReader.readAsDataFrame(proto.datadir)"
      ]
    },
    {
      "cell_type": "markdown",
      "metadata": {},
      "source": [
        "Then we will calculate the distance from the simulus for each border cell\n\n"
      ]
    },
    {
      "cell_type": "code",
      "execution_count": null,
      "metadata": {
        "collapsed": false
      },
      "outputs": [],
      "source": [
        "dists = dict()\nstim_cell = np.array((2,0))\nfor cell in border_cells:\n    diff = np.array(cell) - stim_cell\n    dist = np.sum(np.abs(diff))\n    dists[cell] = dist"
      ]
    },
    {
      "cell_type": "markdown",
      "metadata": {},
      "source": [
        "We can use the trace Dataframe to produce traces of each of the action\npotenitals in the fiber and color them by their location in the fiber\n\n"
      ]
    },
    {
      "cell_type": "code",
      "execution_count": null,
      "metadata": {
        "collapsed": false
      },
      "outputs": [],
      "source": [
        "plt.figure()\ncolors = plt.cm.jet_r(np.linspace(0,1,max(dists.values())+1))\nfor cell in sorted(border_cells, key=lambda x: dists[x]):\n    trace_subset = trace[trace[(cell,'t')] < 4_250]\n    plt.plot(trace_subset[(cell,'t')],\n             trace_subset[(cell,'vOld')],\n             color=colors[dists[cell]],\n             label=str(cell))\nplt.xlabel('Time (ms)')\nplt.ylabel('Voltage (mV)')\n_ = plt.legend()"
      ]
    },
    {
      "cell_type": "markdown",
      "metadata": {},
      "source": [
        "Then let's create one more plot to show the action potential propagation.\n\n"
      ]
    },
    {
      "cell_type": "code",
      "execution_count": null,
      "metadata": {
        "collapsed": false
      },
      "outputs": [],
      "source": [
        "plt.figure()\ncolors = plt.cm.jet_r(np.linspace(0,1,max(dists.values())+1))\nfor cell in sorted(border_cells, key=lambda x: dists[x]):\n    trace_subset = trace[trace[(cell,'t')] < 4_010]\n    plt.plot(trace_subset[(cell,'t')],\n             trace_subset[(cell,'vOld')],\n             color=colors[dists[cell]],\n             label=str(cell))\nplt.xlabel('Time (ms)')\nplt.ylabel('Voltage (mV)')\n_ = plt.legend()"
      ]
    }
  ],
  "metadata": {
    "kernelspec": {
      "display_name": "Python 3",
      "language": "python",
      "name": "python3"
    },
    "language_info": {
      "codemirror_mode": {
        "name": "ipython",
        "version": 3
      },
      "file_extension": ".py",
      "mimetype": "text/x-python",
      "name": "python",
      "nbconvert_exporter": "python",
      "pygments_lexer": "ipython3",
      "version": "3.7.6"
    }
  },
  "nbformat": 4,
  "nbformat_minor": 0
}
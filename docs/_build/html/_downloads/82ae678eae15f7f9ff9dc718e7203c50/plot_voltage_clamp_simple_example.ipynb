{
  "cells": [
    {
      "cell_type": "code",
      "execution_count": null,
      "metadata": {
        "collapsed": false
      },
      "outputs": [],
      "source": [
        "%matplotlib inline"
      ]
    },
    {
      "cell_type": "markdown",
      "metadata": {},
      "source": [
        "\n# Simple Voltage Clamp\n\nThis example illustrates how to setup and run a voltage clamp simulation.\nThese simulations hold the cell's transmembrane voltage `vOld` to a fixed value\nfor specified lengths of time. They are most useful for measuring the cell's \nresponse to specific voltages. This example assumes that you have gone through\nthe simple current clamp example which explains the general LongQt simulation\nsetup.\n"
      ]
    },
    {
      "cell_type": "code",
      "execution_count": null,
      "metadata": {
        "collapsed": false
      },
      "outputs": [],
      "source": [
        "import PyLongQt as pylqt\n\nproto = pylqt.protoMap['Voltage Clamp Protocol']()\nproto.setCellByName('Human Ventricular (Ten Tusscher 2004)')\n\nproto.tMax = 150\nproto.meastime = 0\nproto.writetime = 0\n\nvarSel = proto.cell.variableSelection\nvarSel.add('iNa')\nproto.cell.variableSelection = varSel\n\nproto.measureMgr.addMeasure('iNa', {'min', 'avg'})\n\nproto.clamps.insert(0, -80)\nproto.clamps.insert(100, 10)\nproto.clamps.insert(120, -40)\n\nsim_runner = pylqt.RunSim()\nsim_runner.setSims(proto)\nsim_runner.run()\nsim_runner.wait()"
      ]
    }
  ],
  "metadata": {
    "kernelspec": {
      "display_name": "Python 3",
      "language": "python",
      "name": "python3"
    },
    "language_info": {
      "codemirror_mode": {
        "name": "ipython",
        "version": 3
      },
      "file_extension": ".py",
      "mimetype": "text/x-python",
      "name": "python",
      "nbconvert_exporter": "python",
      "pygments_lexer": "ipython3",
      "version": "3.8.10"
    }
  },
  "nbformat": 4,
  "nbformat_minor": 0
}
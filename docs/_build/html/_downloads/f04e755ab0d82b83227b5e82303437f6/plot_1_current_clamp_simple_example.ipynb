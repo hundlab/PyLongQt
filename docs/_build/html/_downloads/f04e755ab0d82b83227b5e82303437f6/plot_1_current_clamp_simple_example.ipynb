{
  "cells": [
    {
      "cell_type": "code",
      "execution_count": null,
      "metadata": {
        "collapsed": false
      },
      "outputs": [],
      "source": [
        "%matplotlib inline"
      ]
    },
    {
      "cell_type": "markdown",
      "metadata": {},
      "source": [
        "\n# 1. Simple Current Clamp\n\nThis example illustrates how to setup and run a current clamp simulation, \nalso known as a paced simulation on a single cell. Current clamp simulations\ninvolve pacing the cell with a set stimulus over time similarly to how\nthe cells would be paced in the heart. To start, once  PyLongQt \nis installed import it as seen below, this gives accesses to all of the \nclasses and objects necessary to set up and run a simulation.\n"
      ]
    },
    {
      "cell_type": "code",
      "execution_count": null,
      "metadata": {
        "collapsed": false
      },
      "outputs": [],
      "source": [
        "import PyLongQt as pylqt"
      ]
    },
    {
      "cell_type": "markdown",
      "metadata": {},
      "source": [
        "## Setup the Simulation\n\nProtocols are the base of the simulation, the :py:data:`protoMap` allows \nthem to be created using their name. Additionally, the map contains\nall of the available protocols so all options can be easily seen.\nAlternatively, the protocol classes are available in the \n:py:mod:`pylqt.Protocols` module.\n\n"
      ]
    },
    {
      "cell_type": "code",
      "execution_count": null,
      "metadata": {
        "collapsed": false
      },
      "outputs": [],
      "source": [
        "proto = pylqt.protoMap['Current Clamp Protocol']()\n#proto = pylqt.Protocols.CurrentClamp()"
      ]
    },
    {
      "cell_type": "markdown",
      "metadata": {},
      "source": [
        "The next critical component in every simulation is the :py:class:`Cell`, this\nis the model which will be run. The :py:class:`Cell` class defines the species \nand tissue type. The cell models available in PyLongQt have been validated and\npeer-reviewed. To find information on their citations see\npy:meth:`Cell.citation`. The easiest way to see what cells are available\nis to use the :py:meth:`Protocol.cellOptions` method.\n\n"
      ]
    },
    {
      "cell_type": "code",
      "execution_count": null,
      "metadata": {
        "collapsed": false
      },
      "outputs": [],
      "source": [
        "proto.cellOptions() #Change this things name?"
      ]
    },
    {
      "cell_type": "markdown",
      "metadata": {},
      "source": [
        "Once a :py:class:`Cell` has been chosen, the cell can be set using \n:py:meth:`Protocol.setCellByName`, with the name from \n:py:meth:`Protocol.cellOptions`.\n\n"
      ]
    },
    {
      "cell_type": "code",
      "execution_count": null,
      "metadata": {
        "collapsed": false
      },
      "outputs": [],
      "source": [
        "proto.setCellByName('Human Atrial (Onal 2017)')\nproto.cell"
      ]
    },
    {
      "cell_type": "markdown",
      "metadata": {},
      "source": [
        "Once a cell has been chosen, the cell model can be customized further using\nthe cell options, which can be found in the :py:meth:`Cell.optionsMap`. These\noptions are additional changes which are specific to that cell model. Typically\nthese represent the presence of different drugs or mutations as is the case\nfor this Human Atrial model.\n\n"
      ]
    },
    {
      "cell_type": "code",
      "execution_count": null,
      "metadata": {
        "collapsed": false
      },
      "outputs": [],
      "source": [
        "proto.cell.optionsMap()"
      ]
    },
    {
      "cell_type": "markdown",
      "metadata": {},
      "source": [
        "Now we will set one of these options, in this case the option for a genetic\nmutation to the RyR2.\n\n"
      ]
    },
    {
      "cell_type": "code",
      "execution_count": null,
      "metadata": {
        "collapsed": false
      },
      "outputs": [],
      "source": [
        "proto.cell.setOption('S2814A', True)\nproto.cell.optionsMap()"
      ]
    },
    {
      "cell_type": "markdown",
      "metadata": {},
      "source": [
        "But when we try and add the `S2814D` option, this overwrote the `S2814A`! This\nis becuase some combinations of options may not be possible, in this case\nthese two options are both point mutations at the same location in the RyR2,\nso it would not be possible for a model to have both at once.\n\n"
      ]
    },
    {
      "cell_type": "code",
      "execution_count": null,
      "metadata": {
        "collapsed": false
      },
      "outputs": [],
      "source": [
        "proto.cell.setOption('S2814D', True)\nproto.cell.optionsMap()"
      ]
    },
    {
      "cell_type": "markdown",
      "metadata": {},
      "source": [
        "The next setup is the protocol's settings. For the current clamp \nprotocol these control the pacing: how often to pace, how long each stimulus\nis for, .... A more complete description of each of these, along with their\nunits can be found in the API portion of the documentation. Below we set \n``bcl`` the number of milliseconds between each stimulus, ``stimt`` the time\nof the first stimulus, ``tMax`` the length of the simulation, ``numstims`` the\nnumber of stimuli that will be applied and ``meastime`` the time at which \nmeasuring will begin (to be discussed in more detail later on in this example).\nFinally, ``datadir`` is where the output files for the simulation will be \nwritten. This directory name does not need to exist but should be unique\nas multiple files will be written into that directory.\n\n"
      ]
    },
    {
      "cell_type": "code",
      "execution_count": null,
      "metadata": {
        "collapsed": false
      },
      "outputs": [],
      "source": [
        "proto.bcl = 800\nproto.stimt = 500\nproto.tMax = 50_000\nproto.numstims = 200\nproto.meastime = 1_000\nproto.writetime = 45_000\nproto.datadir"
      ]
    },
    {
      "cell_type": "markdown",
      "metadata": {},
      "source": [
        "The rest of the setup deals with choosing which variables to save, and what\ninfomation about them to save. The first options are for controlling which \nvariables have traces saved, which are records of that variable's value\nthroughout the simulation. By default time and voltage are traced, time being\ncritical for most common plots that are made with traces.\n\n"
      ]
    },
    {
      "cell_type": "code",
      "execution_count": null,
      "metadata": {
        "collapsed": false
      },
      "outputs": [],
      "source": [
        "proto.cell.variableSelection"
      ]
    },
    {
      "cell_type": "markdown",
      "metadata": {},
      "source": [
        "It is possible to remove time and voltage, but for now we will just add the \nsodium current ``iNa``.\n\n"
      ]
    },
    {
      "cell_type": "code",
      "execution_count": null,
      "metadata": {
        "collapsed": false
      },
      "outputs": [],
      "source": [
        "varSel = proto.cell.variableSelection\nvarSel.add('iNa')\nproto.cell.variableSelection = varSel\nproto.cell.variableSelection"
      ]
    },
    {
      "cell_type": "markdown",
      "metadata": {},
      "source": [
        "To change which variables are being traced it is necessary to copy the \nselection into a separate variable, modify it and reassign the \nselection to the model. This is an unfortunate limitation of the python\nbindings.\n\n"
      ]
    },
    {
      "cell_type": "code",
      "execution_count": null,
      "metadata": {
        "collapsed": false
      },
      "outputs": [],
      "source": [
        "proto.writeint"
      ]
    },
    {
      "cell_type": "markdown",
      "metadata": {},
      "source": [
        "The ``writeint`` variable controls how frequently\ntraces are saved. The value of 20 indicates that every 20\\ :sup:``th`` step of\nthe model will be saved. The step size may vary throughout the simulation, \ndepending on the cell model, so the time between points in the trace will not\nbe constant. Smaller values of ``writeint`` will save a more\ndetailed trace, but at the expense of causing the simulation to run slower.\n\nFinally, there are the measure settings. Measures write out values once per\naction potential, and record functions of the trace, such as the minimum value,\nthe peak or the action potential duration. The main advantage of using measures\nis that they are called every time-step and so can use the full resolution\nof the simulation without needing to save every point (as this can be very \nslow). The measure manager ``measureMgr`` is used to select which measures\nthere are and preform the necessary setup.\n\n"
      ]
    },
    {
      "cell_type": "code",
      "execution_count": null,
      "metadata": {
        "collapsed": false
      },
      "outputs": [],
      "source": [
        "proto.measureMgr.percrepol = 90\nlist(proto.measureMgr.cellVariables())[:10]\nproto.measureMgr.measureOptions('vOld')"
      ]
    },
    {
      "cell_type": "code",
      "execution_count": null,
      "metadata": {
        "collapsed": false
      },
      "outputs": [],
      "source": [
        "proto.measureMgr.measureOptions('iNa')"
      ]
    },
    {
      "cell_type": "markdown",
      "metadata": {},
      "source": [
        "There are different measure options for different variables, at this time\nthe only variable with other options is ``vOld`` and all other variables have \nthe same options to choose from. We will add measures for the peak voltage,\nthe min voltage and the cycle length. For ``iNa`` we will measure the minimum\nand avgerage current.\n\n"
      ]
    },
    {
      "cell_type": "code",
      "execution_count": null,
      "metadata": {
        "collapsed": false
      },
      "outputs": [],
      "source": [
        "proto.measureMgr.addMeasure('vOld', {'peak', 'min', 'cl'})\nproto.measureMgr.addMeasure('iNa', {'min', 'avg'})\nproto.measureMgr.selection"
      ]
    },
    {
      "cell_type": "markdown",
      "metadata": {},
      "source": [
        "## Run the simulation\n\nNow that the simulation is all setup we can run it, by constructing a \n:py:class:`RunSim` object and adding the configured protocol to it. \n:py:meth:`RunSim.run` wont stop the python script from continuing after the\nsimulation has started, so :py:meth:`RunSim.wait` is called to pause\nthe script until the simulations are finished. For a progress bar use\n:py:meth:`RunSim.printProgressLoop`\n\n"
      ]
    },
    {
      "cell_type": "code",
      "execution_count": null,
      "metadata": {
        "collapsed": false
      },
      "outputs": [],
      "source": [
        "sim_runner = pylqt.RunSim()\nsim_runner.setSims(proto)\nsim_runner.run()\nsim_runner.wait()"
      ]
    },
    {
      "cell_type": "markdown",
      "metadata": {},
      "source": [
        "Before or after the simulation is run we may want to save the simulation\nsettings we selected so that the simulation may be recreated without\nre-running this code file. To read or write settings use the \n:py:class:`SettingsIO` object.\n\n"
      ]
    },
    {
      "cell_type": "code",
      "execution_count": null,
      "metadata": {
        "collapsed": false
      },
      "outputs": [],
      "source": [
        "settings = pylqt.SettingsIO.getInstance()\nsettings.writeSettings(proto.datadir + '/simvars.xml', proto)"
      ]
    },
    {
      "cell_type": "markdown",
      "metadata": {},
      "source": [
        "## Plot the Results\n\nDisable future warnings to avoid excess outputs from plotting\n(this is for reducing clutter in the example and is not generally\n advisable)\n\n"
      ]
    },
    {
      "cell_type": "code",
      "execution_count": null,
      "metadata": {
        "collapsed": false
      },
      "outputs": [],
      "source": [
        "import warnings\nwarnings.simplefilter(action='ignore', category=FutureWarning)"
      ]
    },
    {
      "cell_type": "markdown",
      "metadata": {},
      "source": [
        "Once a simulation is run it will place all the saved data into \n:py:data:`Protocol.datadir`, where it can be read using functions in\n:py:class:`PyLongQt.DataReader`. :py:meth:`DataReader.readAsDataFrame` reads\nthe data directory and returns the chosen traces and measures each in \n:py:class:`pandas.DataFrame`. \n\n"
      ]
    },
    {
      "cell_type": "code",
      "execution_count": null,
      "metadata": {
        "collapsed": false
      },
      "outputs": [],
      "source": [
        "import pandas as pd\nimport numpy as np\nimport matplotlib.pyplot as plt\n\n[trace], [meas] = pylqt.DataReader.readAsDataFrame(proto.datadir)"
      ]
    },
    {
      "cell_type": "markdown",
      "metadata": {},
      "source": [
        ":py:meth:`readAsDataFrame` returns two lists of :py:class:`DataFrame`s for\nthe traces and measures, respectively. Each element in the list is its own\ntrial, so for this example where only one trial was run there is only one\nelement in each list.\n\nAfter extrating the data we will use :py:mod:`matplotlib.pyplot` to make a \nfew plots of the data.\n\n"
      ]
    },
    {
      "cell_type": "code",
      "execution_count": null,
      "metadata": {
        "collapsed": false
      },
      "outputs": [],
      "source": [
        "plt.figure()\nplt.plot('t', 'vOld', data=trace)\nplt.xlabel('Time (ms)')\n_ = plt.ylabel('Voltage (mV)')"
      ]
    },
    {
      "cell_type": "markdown",
      "metadata": {},
      "source": [
        "Using the saved data we can plot the traces for the variables we selected.\nWe can also modify the data for analysis or to produce different plots \nas seen below for iNa where we subset the data to only plot the last sodium\ncurrent peak.\n\n"
      ]
    },
    {
      "cell_type": "code",
      "execution_count": null,
      "metadata": {
        "collapsed": false
      },
      "outputs": [],
      "source": [
        "trace_subset = trace[(trace['t'] > 49_300) & (trace['t'] < 49_320)]\n\nplt.figure()\nplt.plot('t', 'iNa', data=trace_subset)\nplt.ylabel('Sodium Current (pA/pF)')\nplt.xlabel('Time (ms)')\n_ = plt.locator_params(axis='x', nbins=5)"
      ]
    },
    {
      "cell_type": "markdown",
      "metadata": {},
      "source": [
        "We can make a plots from the measured variables, such as\nseeing how the peak sodium current varies beat to beat throughout the \nsimulation.\n\nFirst we will enumerate the beats starting with 2 as we skipped the\nfirst beat using :py:data:`proto.meastime`, then we will plot the beat\nvs peak sodium current, which in this case is captured by the `min` measure\nas sodium current is always negative\n\n"
      ]
    },
    {
      "cell_type": "code",
      "execution_count": null,
      "metadata": {
        "collapsed": false
      },
      "outputs": [],
      "source": [
        "beat = np.arange(meas.shape[0])+2\n\nplt.figure('Peak Sodium Current vs Beat')\nplt.scatter(beat, meas[('iNa', 'min')])\nplt.ylabel('Peak Sodium Current (pA/pF)')\n_ = plt.xlabel('Beat')"
      ]
    }
  ],
  "metadata": {
    "kernelspec": {
      "display_name": "Python 3",
      "language": "python",
      "name": "python3"
    },
    "language_info": {
      "codemirror_mode": {
        "name": "ipython",
        "version": 3
      },
      "file_extension": ".py",
      "mimetype": "text/x-python",
      "name": "python",
      "nbconvert_exporter": "python",
      "pygments_lexer": "ipython3",
      "version": "3.7.6"
    }
  },
  "nbformat": 4,
  "nbformat_minor": 0
}
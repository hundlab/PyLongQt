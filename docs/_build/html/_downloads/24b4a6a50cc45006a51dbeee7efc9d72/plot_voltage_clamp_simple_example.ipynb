{
  "cells": [
    {
      "cell_type": "code",
      "execution_count": null,
      "metadata": {
        "collapsed": false
      },
      "outputs": [],
      "source": [
        "%matplotlib inline"
      ]
    },
    {
      "cell_type": "markdown",
      "metadata": {},
      "source": [
        "\n# 2. Simple Voltage Clamp\n\nThis example illustrates how to setup and run a voltage clamp simulation.\nThese simulations hold the cell's transmembrane voltage `vOld` to a fixed value\nfor specified lengths of time. They are most useful for measuring the cell's \nresponse to specific voltages. This example assumes that you have gone through\nthe simple current clamp example which explains the general LongQt simulation\nsetup.\n"
      ]
    },
    {
      "cell_type": "markdown",
      "metadata": {},
      "source": [
        "## Setup & Run the Simulation\n\n"
      ]
    },
    {
      "cell_type": "code",
      "execution_count": null,
      "metadata": {
        "collapsed": false
      },
      "outputs": [],
      "source": [
        "import PyLongQt as pylqt\n\nproto = pylqt.protoMap['Voltage Clamp Protocol']()\nproto.setCellByName('Human Ventricular (Ten Tusscher 2004)')"
      ]
    },
    {
      "cell_type": "markdown",
      "metadata": {},
      "source": [
        "The initial setup is similar to the current clamp setup with the exception\nthat we create a voltage clamp protocol instead. Optionally we could set \ncell options if that is desired. The voltage clamp protocol can be configured\nusing the protocol's settings, the trace's variable selection, and the\nmeasure's selection.\n\n"
      ]
    },
    {
      "cell_type": "code",
      "execution_count": null,
      "metadata": {
        "collapsed": false
      },
      "outputs": [],
      "source": [
        "proto.tMax = 150\nproto.meastime = 0\nproto.writetime = 0\n\n\nvarSel = proto.cell.variableSelection\nvarSel.add('iNa')\nproto.cell.variableSelection = varSel\n\nproto.measureMgr.addMeasure('iNa', {'min', 'avg'})"
      ]
    },
    {
      "cell_type": "markdown",
      "metadata": {},
      "source": [
        "One difference from the current clamp simulation is that the measure will\ntake measurements for every voltage clamp period, rather than for each\nbeat. To configure which voltage clamps will be applied we use the \n:py:data:`Protocol.clamps`. The `clamps` object is a list of start times\nto apply a voltage, and the voltage to apply at that time until the next time.\n\n"
      ]
    },
    {
      "cell_type": "code",
      "execution_count": null,
      "metadata": {
        "collapsed": false
      },
      "outputs": [],
      "source": [
        "proto.clamps.insert(0, -80)"
      ]
    },
    {
      "cell_type": "markdown",
      "metadata": {},
      "source": [
        "First we insert a clamp starting at time 0 (ms) which will clamp the cell\nmembrane voltage :py:data:`Cell.vOld` to a voltage of -80 (mV). This clamp\nwill be applied until the another clamp takes effect.\n\n"
      ]
    },
    {
      "cell_type": "code",
      "execution_count": null,
      "metadata": {
        "collapsed": false
      },
      "outputs": [],
      "source": [
        "proto.clamps.insert(100, 10)\nproto.clamps.insert(120, -40)\nlist(proto.clamps)"
      ]
    },
    {
      "cell_type": "markdown",
      "metadata": {},
      "source": [
        "These are the clamps we have added, they will always be displayed in order\nby their start times. Now the simulation is all setup and can be run.\n\n"
      ]
    },
    {
      "cell_type": "code",
      "execution_count": null,
      "metadata": {
        "collapsed": false
      },
      "outputs": [],
      "source": [
        "sim_runner = pylqt.RunSim()\nsim_runner.setSims(proto)\nsim_runner.run()\nsim_runner.wait()"
      ]
    },
    {
      "cell_type": "markdown",
      "metadata": {},
      "source": [
        "## Plot the Results\n\nReading and plotting the saved data can be preformed in the same manor\nas for the current clamp simulation.\n\n"
      ]
    },
    {
      "cell_type": "code",
      "execution_count": null,
      "metadata": {
        "collapsed": false
      },
      "outputs": [],
      "source": [
        "import pandas as pd\nimport numpy as np\nimport matplotlib.pyplot as plt\n\n[trace], [meas] = pylqt.DataReader.readAsDataFrame(proto.datadir)"
      ]
    },
    {
      "cell_type": "markdown",
      "metadata": {},
      "source": [
        "The voltage plot shows is that voltage is being clamped to the desired\nvalues.\n\n"
      ]
    },
    {
      "cell_type": "code",
      "execution_count": null,
      "metadata": {
        "collapsed": false
      },
      "outputs": [],
      "source": [
        "plt.figure()\nplt.plot('t', 'vOld', data=trace)\nplt.xlabel('Time (ms)')\nplt.ylabel('Voltage (mV)')"
      ]
    },
    {
      "cell_type": "markdown",
      "metadata": {},
      "source": [
        "The measurements are recorded once per clamp, regardless of whether the\ncell had a response. Looking at the measurements for the sodium current, \nwe can see that only the 10 mV clamp at 100 ms had a response\n\n"
      ]
    },
    {
      "cell_type": "code",
      "execution_count": null,
      "metadata": {
        "collapsed": false
      },
      "outputs": [],
      "source": [
        "clamp_n = (np.arange(meas.shape[0])+1).astype('str')\n\nplt.figure('Peak Sodium Current vs Beat')\nplt.bar(clamp_n, meas[('iNa', 'min')])\nplt.ylabel('Peak Sodium Current (pA/pF)')\nplt.xlabel('Clamp')"
      ]
    },
    {
      "cell_type": "markdown",
      "metadata": {},
      "source": [
        "The voltage of +10 mV elicited a current response from the sodium channel.\nWe can trim the sodium current trace to that time-period and produce a plot.\n\n"
      ]
    },
    {
      "cell_type": "code",
      "execution_count": null,
      "metadata": {
        "collapsed": false
      },
      "outputs": [],
      "source": [
        "trace_subset = trace[(trace['t'] > 100) & (trace['t'] < 120)]\n\nplt.figure()\nplt.plot('t', 'iNa', data=trace_subset)\nplt.ylabel('Sodium Current (pA/pF)')\nplt.xlabel('Time (ms)')"
      ]
    }
  ],
  "metadata": {
    "kernelspec": {
      "display_name": "Python 3",
      "language": "python",
      "name": "python3"
    },
    "language_info": {
      "codemirror_mode": {
        "name": "ipython",
        "version": 3
      },
      "file_extension": ".py",
      "mimetype": "text/x-python",
      "name": "python",
      "nbconvert_exporter": "python",
      "pygments_lexer": "ipython3",
      "version": "3.7.6"
    }
  },
  "nbformat": 4,
  "nbformat_minor": 0
}
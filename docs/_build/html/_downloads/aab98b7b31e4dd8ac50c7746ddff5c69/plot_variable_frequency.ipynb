{
  "cells": [
    {
      "cell_type": "code",
      "execution_count": null,
      "metadata": {
        "collapsed": false
      },
      "outputs": [],
      "source": [
        "%matplotlib inline"
      ]
    },
    {
      "cell_type": "markdown",
      "metadata": {},
      "source": [
        "\n# Variable Pacing Frequency\n\nThis example illustrates how to setup a simulation which modifies the protocol\nwhile it is running. In this case we will show how this can be used\nto change the pacing frequency (basic cycle length), however in general this\ncan be applied to change any parameter during runtime.\n"
      ]
    },
    {
      "cell_type": "markdown",
      "metadata": {},
      "source": [
        "## Initial Setup\n\nFirst we will setup paced current clamp simulation with any of the options\nwe would like. \n\n"
      ]
    },
    {
      "cell_type": "code",
      "execution_count": null,
      "metadata": {
        "collapsed": false
      },
      "outputs": [],
      "source": [
        "import warnings\nwarnings.simplefilter(action='ignore', category=FutureWarning)\n\nimport PyLongQt as pylqt\n\nimport pandas as pd\nimport matplotlib.pyplot as plt\nimport numpy as np\n\nproto = pylqt.protoMap['Current Clamp Protocol']()\n\nproto.setCellByName('Canine Ventricular (Hund-Rudy 2009)')\n\nproto.bcl = 2_000\nproto.tMax = 55_000\nproto.numstims = 200\nproto.meastime = 1_000\nproto.writetime = 0\n\nproto.measureMgr.addMeasure('vOld', {'cl', 'peak'})"
      ]
    },
    {
      "cell_type": "markdown",
      "metadata": {},
      "source": [
        "Now that the basic setup is complete we will use an additional feature\nof :py:class:`Protocol`, :py:meth:`Protocol.setRunDuring`, which allows\nus to set a function to be called periodically while the simulation is\nrunning. The settings for the run durring function are the first time\nfor the function to be called `firstRun` (in ms), how often it should be run\n`runEvery` (in ms) and finally how many times it should be run: `numruns`.\n\n<div class=\"alert alert-info\"><h4>Note</h4><p>There are two other features which similarly allow for a user defined\n   function to be run during the simulation: `setRunBefore` and `setRunAfter`.\n   As the names imply these will be run at the beginning and end of a simulation.</p></div>\n\n"
      ]
    },
    {
      "cell_type": "markdown",
      "metadata": {},
      "source": [
        "## Define the run during function\n\nThe user defined function we will supply to the method will be a special one.\nIn python it is possible to define a class which can act like a function,\nand we will do that in order to allow our 'function' to store all of the\n`bcl`s.\n\n"
      ]
    },
    {
      "cell_type": "markdown",
      "metadata": {},
      "source": [
        "To do this we will define the class `IterateBCLs`, which will take the list\nof `bcl`\\ s we want to use, and then update the protocol every time it is called\nas a function.\n\n"
      ]
    },
    {
      "cell_type": "code",
      "execution_count": null,
      "metadata": {
        "collapsed": false
      },
      "outputs": [],
      "source": [
        "class IterateBCLs():\n    def __init__(self, bcls):\n        self.proto_lookup = {}\n        self.bcls = bcls\n    def __len__(self):\n        return len(self.bcls)\n    def __call__(self, proto):\n        if not id(proto) in self.proto_lookup:\n            self.proto_lookup[id(proto)] = 0\n        idx = self.proto_lookup[id(proto)]\n\n        if idx < len(self.bcls):\n            bcl = self.bcls[idx]\n            proto.bcl = bcl\n            self.proto_lookup[id(proto)] += 1\n        else:\n            proto.paceflag = False"
      ]
    },
    {
      "cell_type": "markdown",
      "metadata": {},
      "source": [
        "A detailed explanation for those unfamiliar with python classes\n\n  The `__init__` method is the one that is\n  called when `IterateBCLs` is created. In our case it initializes the \n  `proto_lookup` table, and saves the `bcl`\\ s for use later. To call this method\n  run ``func = IterateBCLs([1000,500])``. The `__len__`\n  function returns the number of `bcl`\\ s that are stored, and could be called\n  ``len(func)``. Finally, the most important method is `__call__`, this is what\n  will be called while the simulation is running. It can be called using\n  ``func(proto)``.\n\nThe `__call__` method preforms the following tasks:\n\n1. Determines the number of times that the `__call__` method has been called\n   so that it will know which bcl to assign to the protocol\n2. If the number of times it has been called is less than the number of bcls\n   passed in, it updates the protocol's bcl to the next bcl in the list,\n   otherwise it instructs the protocol to stop pacing.\n\nFor step 1, we need to use a lookup table for the case where we are running\nmultiple simulations using `numtrials`. That is not the case in this example,\nbut this allows the `IterateBCLs` class to be more generally useful. The\nlookup table is needed to ensure that `IterateBCLs` keeps track of the number\nof calls each simulation made independently of the others. When the simulations\nare run the protocol is copied once for each simulation, so its location \nin memory can be used to uniquely identify it.\n\nNow that the `IterateBCLs` class is defined we can create an instance of it\nand add it to the protocol\n\n"
      ]
    },
    {
      "cell_type": "code",
      "execution_count": null,
      "metadata": {
        "collapsed": false
      },
      "outputs": [],
      "source": [
        "bcls = [1500, 1000, 500]\nfunc = IterateBCLs(bcls)"
      ]
    },
    {
      "cell_type": "markdown",
      "metadata": {},
      "source": [
        "This sets the `func` instance to be called first at time 20,000ms\nand then every 10,000ms until its been run ``len(bcls)+1`` (=4) number of\ntimes\n\n"
      ]
    },
    {
      "cell_type": "code",
      "execution_count": null,
      "metadata": {
        "collapsed": false
      },
      "outputs": [],
      "source": [
        "proto.setRunDuring(func, firstRun=10_000, runEvery=10_000, numruns=len(func)+1)"
      ]
    },
    {
      "cell_type": "markdown",
      "metadata": {},
      "source": [
        "## Run the simulation\n\n"
      ]
    },
    {
      "cell_type": "code",
      "execution_count": null,
      "metadata": {
        "collapsed": false
      },
      "outputs": [],
      "source": [
        "sim_runner = pylqt.RunSim()\nsim_runner.setSims(proto)\nsim_runner.run()\nsim_runner.wait()"
      ]
    },
    {
      "cell_type": "markdown",
      "metadata": {},
      "source": [
        "## Plots!\n\n"
      ]
    },
    {
      "cell_type": "code",
      "execution_count": null,
      "metadata": {
        "collapsed": false
      },
      "outputs": [],
      "source": [
        "[trace], [meas] = pylqt.DataReader.readAsDataFrame(proto.datadir)"
      ]
    },
    {
      "cell_type": "markdown",
      "metadata": {},
      "source": [
        "A plot of the voltage over time will show the pacing frequency\nand we will follow it up with the measured cycle length\n\n"
      ]
    },
    {
      "cell_type": "code",
      "execution_count": null,
      "metadata": {
        "collapsed": false
      },
      "outputs": [],
      "source": [
        "plt.figure()\nplt.plot('t', 'vOld', data=trace)\nplt.xlabel('Time (ms)')\n_ = plt.ylabel('Voltage (mV)')"
      ]
    },
    {
      "cell_type": "code",
      "execution_count": null,
      "metadata": {
        "collapsed": false
      },
      "outputs": [],
      "source": [
        "beat = np.arange(meas.shape[0])\n\nplt.figure('Peak Sodium Current vs Beat')\nplt.scatter(beat, meas[('vOld', 'cl')])\nplt.ylabel('Basic Cycle Length (ms)')\n_ = plt.xlabel('Beat')"
      ]
    }
  ],
  "metadata": {
    "kernelspec": {
      "display_name": "Python 3",
      "language": "python",
      "name": "python3"
    },
    "language_info": {
      "codemirror_mode": {
        "name": "ipython",
        "version": 3
      },
      "file_extension": ".py",
      "mimetype": "text/x-python",
      "name": "python",
      "nbconvert_exporter": "python",
      "pygments_lexer": "ipython3",
      "version": "3.7.6"
    }
  },
  "nbformat": 4,
  "nbformat_minor": 0
}